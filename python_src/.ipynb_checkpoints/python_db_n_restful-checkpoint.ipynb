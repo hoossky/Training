{
 "cells": [
  {
   "cell_type": "code",
   "execution_count": 2,
   "metadata": {},
   "outputs": [
    {
     "name": "stdout",
     "output_type": "stream",
     "text": [
      "Table Connection Success\n"
     ]
    }
   ],
   "source": [
    "#pip install pymysql\n",
    "import pymysql\n",
    "\n",
    "# Connection(접속)\n",
    "db = pymysql.connect(\n",
    "    host='127.0.0.1', \n",
    "    port=3306, \n",
    "    user='stest', \n",
    "    passwd='1234',\n",
    "    db='test'\n",
    ")\n",
    "\n",
    "cursor = db.cursor()\n",
    "\n",
    "# SQL 문 작성\n",
    "sql = \"\"\"\n",
    "    create table pydbtest(\n",
    "        id int unsigned not null auto_increment,\n",
    "        name varchar (20) not null,\n",
    "        price int not null,\n",
    "        primary key(id)\n",
    "    );\n",
    "\"\"\"\n",
    "\n",
    "# SQL Query 실행(메모리상에서 완료)\n",
    "cursor.execute(sql)\n",
    "\n",
    "# 실제 DB에 적용(commit)\n",
    "db.commit()\n",
    "\n",
    "# DB 닫기\n",
    "db.close()\n",
    "\n",
    "print(\"Table Connection Success\")"
   ]
  }
 ],
 "metadata": {
  "kernelspec": {
   "display_name": "Python 3",
   "language": "python",
   "name": "python3"
  },
  "language_info": {
   "codemirror_mode": {
    "name": "ipython",
    "version": 3
   },
   "file_extension": ".py",
   "mimetype": "text/x-python",
   "name": "python",
   "nbconvert_exporter": "python",
   "pygments_lexer": "ipython3",
   "version": "3.7.6"
  }
 },
 "nbformat": 4,
 "nbformat_minor": 4
}
