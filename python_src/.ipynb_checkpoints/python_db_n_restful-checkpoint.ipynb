{
 "cells": [
  {
   "cell_type": "code",
   "execution_count": 2,
   "metadata": {},
   "outputs": [
    {
     "name": "stdout",
     "output_type": "stream",
     "text": [
      "Table Connection Success\n"
     ]
    }
   ],
   "source": [
    "#pip install pymysql\n",
    "import pymysql\n",
    "\n",
    "# Connection(접속)\n",
    "db = pymysql.connect(\n",
    "    host='127.0.0.1', \n",
    "    port=3306, \n",
    "    user='stest', \n",
    "    passwd='1234',\n",
    "    db='test'\n",
    ")\n",
    "\n",
    "cursor = db.cursor()\n",
    "\n",
    "# SQL 문 작성\n",
    "sql = \"\"\"\n",
    "    create table pydbtest(\n",
    "        id int unsigned not null auto_increment,\n",
    "        name varchar (20) not null,\n",
    "        price int not null,\n",
    "        primary key(id)\n",
    "    );\n",
    "\"\"\"\n",
    "\n",
    "# SQL Query 실행(메모리상에서 완료)\n",
    "cursor.execute(sql)\n",
    "\n",
    "# 실제 DB에 적용(commit)\n",
    "db.commit()\n",
    "\n",
    "# DB 닫기\n",
    "db.close()\n",
    "\n",
    "print(\"Table Connection Success\")"
   ]
  },
  {
   "cell_type": "code",
   "execution_count": 3,
   "metadata": {},
   "outputs": [
    {
     "name": "stdout",
     "output_type": "stream",
     "text": [
      "Insert Success\n"
     ]
    }
   ],
   "source": [
    "db = pymysql.connect(\n",
    "    host='127.0.0.1', \n",
    "    port=3306, \n",
    "    user='stest', \n",
    "    passwd='1234',\n",
    "    db='test'\n",
    ")\n",
    "\n",
    "cursor = db.cursor()\n",
    "\n",
    "# SQL 문 작성\n",
    "sql = \"\"\"\n",
    "    insert into pydbtest(name, price) values (%s, %s)\n",
    "\"\"\"\n",
    "\n",
    "# SQL Query 실행(메모리상에서 완료)\n",
    "cursor.execute(sql, ('Xeon', 10000000))\n",
    "cursor.execute(sql, ('OpenVINO', 30000000))\n",
    "cursor.execute(sql, ('Nvidia RTX Titan', 4000000))\n",
    "\n",
    "# 실제 DB에 적용(commit)\n",
    "db.commit()\n",
    "\n",
    "# DB 닫기\n",
    "db.close()\n",
    "\n",
    "print(\"Insert Success\")"
   ]
  },
  {
   "cell_type": "code",
   "execution_count": 6,
   "metadata": {},
   "outputs": [
    {
     "name": "stdout",
     "output_type": "stream",
     "text": [
      "((1, 'Xeon', 10000000), (2, 'OpenVINO', 30000000), (3, 'Nvidia RTX Titan', 4000000))\n",
      "Table Connection Success\n"
     ]
    }
   ],
   "source": [
    "import pymysql\n",
    "\n",
    "db = pymysql.connect(\n",
    "    host='127.0.0.1', \n",
    "    port=3306, \n",
    "    user='stest', \n",
    "    passwd='1234',\n",
    "    db='test'\n",
    ")\n",
    "\n",
    "cursor = db.cursor()\n",
    "\n",
    "sql = \"\"\"\n",
    "    select * from pydbtest;\n",
    "\"\"\"\n",
    "\n",
    "\n",
    "# Query를 실행한 이후 정보를 cursor가 가지고 있고\n",
    "# fetch를 통해서 실제 값을 얻어와야 한다.\n",
    "cursor.execute(sql)\n",
    "rows = cursor.fetchall() # select로 얻은 데이터 전부\n",
    "print(rows)\n",
    "\n",
    "# db.commit() 은 실제 DB에 적용할 변경된 사항이 있을 경우에만 필요하다.\n",
    "\n",
    "db.close()\n",
    "\n",
    "print(\"Select Success\")"
   ]
  },
  {
   "cell_type": "code",
   "execution_count": 14,
   "metadata": {},
   "outputs": [
    {
     "name": "stdout",
     "output_type": "stream",
     "text": [
      "(1, 'Xeon', 10000000)\n",
      "(2, 'OpenVINO', 30000000)\n",
      "(3, 'Nvidia RTX Titan', 4000000)\n",
      "Select Success\n"
     ]
    }
   ],
   "source": [
    "import pymysql\n",
    "\n",
    "db = pymysql.connect(\n",
    "    host='127.0.0.1', \n",
    "    port=3306, \n",
    "    user='stest', \n",
    "    passwd='1234',\n",
    "    db='test'\n",
    ")\n",
    "\n",
    "cursor = db.cursor()\n",
    "\n",
    "sql = \"\"\"\n",
    "    select * from pydbtest;\n",
    "\"\"\"\n",
    "\n",
    "\n",
    "cursor.execute(sql)\n",
    "\n",
    "rows = cursor.fetchall()\n",
    "for row in rows:\n",
    "    print(row)\n",
    "\n",
    "\n",
    "db.close()\n",
    "\n",
    "print(\"Select Success\")"
   ]
  },
  {
   "cell_type": "code",
   "execution_count": 15,
   "metadata": {},
   "outputs": [
    {
     "name": "stdout",
     "output_type": "stream",
     "text": [
      "{'id': 1, 'name': 'Xeon', 'price': 10000000}\n",
      "1 Xeon 10000000\n",
      "{'id': 2, 'name': 'OpenVINO', 'price': 30000000}\n",
      "2 OpenVINO 30000000\n",
      "{'id': 3, 'name': 'Nvidia RTX Titan', 'price': 4000000}\n",
      "3 Nvidia RTX Titan 4000000\n",
      "Select Success\n"
     ]
    }
   ],
   "source": [
    "import pymysql\n",
    "\n",
    "db = pymysql.connect(\n",
    "    host='127.0.0.1', \n",
    "    port=3306, \n",
    "    user='stest', \n",
    "    passwd='1234',\n",
    "    db='test'\n",
    ")\n",
    "\n",
    "cursor = db.cursor(pymysql.cursors.DictCursor)\n",
    "\n",
    "sql = \"\"\"\n",
    "    select * from pydbtest;\n",
    "\"\"\"\n",
    "\n",
    "\n",
    "cursor.execute(sql)\n",
    "\n",
    "rows = cursor.fetchall()\n",
    "for row in rows:\n",
    "    print(row)\n",
    "    print(row['id'], row['name'], row['price'])\n",
    "\n",
    "\n",
    "db.close()\n",
    "\n",
    "print(\"Select Success\")"
   ]
  },
  {
   "cell_type": "code",
   "execution_count": 17,
   "metadata": {},
   "outputs": [
    {
     "name": "stdout",
     "output_type": "stream",
     "text": [
      "{\"id\": 3737, \"name\": \"Rubric\", \"history\": [{\"date\": \"1999-03-12\", \"item\": \"PC\"}, {\"date\": \"2019-12-23\", \"item\": \"Notebook\"}]}\n",
      "<class 'str'>\n"
     ]
    }
   ],
   "source": [
    "import json\n",
    "\n",
    "customer = {\n",
    "    'id' : 3737,\n",
    "    'name' : 'Rubric',\n",
    "    'history' : [\n",
    "        {'date' : '1999-03-12', 'item': 'PC'},\n",
    "        {'date' : '2019-12-23', 'item': 'Notebook'},\n",
    "    ]\n",
    "}\n",
    "\n",
    "jsonStr = json.dumps(customer)\n",
    "\n",
    "print(jsonStr)\n",
    "print(type(jsonStr))"
   ]
  },
  {
   "cell_type": "code",
   "execution_count": 19,
   "metadata": {},
   "outputs": [
    {
     "name": "stdout",
     "output_type": "stream",
     "text": [
      "3737\n",
      "Rubric\n",
      "1999-03-12 : PC\n",
      "2019-12-23 : Notebook\n"
     ]
    }
   ],
   "source": [
    "dict = json.loads(jsonStr)\n",
    "\n",
    "print(dict['id'])\n",
    "print(dict['name'])\n",
    "\n",
    "for info in dict['history']:\n",
    "    print(info['date'], ':', info['item'])"
   ]
  },
  {
   "cell_type": "code",
   "execution_count": 22,
   "metadata": {},
   "outputs": [
    {
     "name": "stdout",
     "output_type": "stream",
     "text": [
      "['Ref', 'Package', 'Qty', 'Value', 'Digikey part number', 'Manufacturer part number']\n",
      "['BT1', 'BatteryHolder_Keystone_2481_4xAAA', '1', 'Battery', '36-2481-ND', '2481']\n",
      "['C10,C9,C1', 'CP_Radial_D5.0mm_P2.00mm', '3', '10uF', '732-8856-1-ND', '860020672010']\n",
      "['C11', 'C_Disc_D3.8mm_W2.6mm_P2.50mm', '1', '47000pF', 'BC5153-ND', 'K473K15X7RF53L2']\n",
      "['C13,C12', 'CP_Radial_D6.3mm_P2.50mm', '2', '220uF', '732-8634-1-ND', '860010473011']\n",
      "['C3', 'C_Disc_D5.0mm_W2.5mm_P5.00mm', '1', '100pF', 'BC5223CT-ND', 'K101J10C0GF5UH5']\n",
      "['C5', 'CP_Radial_D5.0mm_P2.00mm', '1', '1uF', '732-8851-1-ND', '860020672005']\n",
      "['C6,C4', 'C_Disc_D5.0mm_W2.5mm_P5.00mm', '2', '1000pF', 'BC2659CT-ND', 'K102K10X7RF5UH5']\n",
      "['C8,C7,C2', 'C_Disc_D5.1mm_W3.2mm_P5.00mm', '3', '0.1uF', '478-2472-ND', 'SR215C104KAA']\n",
      "['D1', 'D_DO-35_SOD27_P7.62mm_Horizontal', '1', 'BAT41', '497-2493-1-ND', 'BAT41']\n",
      "['D2', 'LED_D5.0mm_Horizontal_O1.27mm_Z9.0mm', '1', 'LED', 'C5SMF-RJF-CT0W0BB1-ND', 'C5SMF-RJF-CT0W0BB1']\n",
      "['J1', 'MOLEX_0731713150', '1', 'Conn_Coaxial', '731713150', 'WM20430-ND']\n",
      "['LS1', 'CLS0231MP-1_SPEAKER', '1', 'Speaker', '102-1543-ND', 'CLS0231MP-1']\n",
      "['Q1', 'TO-92_Inline_Wide', '1', '2N4401', '2N4401TFCT-ND', '2N4401TF']\n",
      "['R3', 'R_Axial_DIN0207_L6.3mm_D2.5mm_P10.16mm_Horizontal', '1', '100', 'CF14JT100RCT-ND', 'CF14JT100R']\n",
      "['R4', 'R_Axial_DIN0207_L6.3mm_D2.5mm_P10.16mm_Horizontal', '1', '22k', 'CF14JT22K0CT-ND', 'CF14JT22K0']\n",
      "['R5,R2', 'R_Axial_DIN0207_L6.3mm_D2.5mm_P10.16mm_Horizontal', '2', '1M', 'RNF14FTD1M00CT-ND', 'RNF14FTD1M00']\n",
      "['R6', 'R_Axial_DIN0207_L6.3mm_D2.5mm_P10.16mm_Horizontal', '1', '1k', 'CF14JT1K00CT-ND', 'CF14JT1K00']\n",
      "['R7', 'R_Axial_DIN0207_L6.3mm_D2.5mm_P10.16mm_Horizontal', '1', '1.3k', '1.30KXBK-ND', 'MFR-25FBF52-1K3']\n",
      "['R8', 'R_Axial_DIN0207_L6.3mm_D2.5mm_P10.16mm_Horizontal', '1', '10', 'CF18JT10R0CT-ND', 'CF18JT10R0']\n",
      "['R9,R1', 'R_Axial_DIN0207_L6.3mm_D2.5mm_P10.16mm_Horizontal', '2', '10k', 'CF14JT10K0CT-ND', 'CF14JT10K0']\n",
      "['RV1', 'Potentiometer_Bourns_PTV09A-2_Single_Horizontal', '1', '10k_pot', 'PTV09A-2020F-A103-ND', 'PTV09A-2020F-A103']\n",
      "['SW2,SW1', '\\u200eEG1206\\u200e_SLIDE_SWITCH', '2', 'SW_SPST', 'EG1916-ND', 'EG1206']\n",
      "['U1', 'DIP-8_W7.62mm', '1', 'LM386', '296-44414-5-ND', 'LM386N-1/NOPB']\n"
     ]
    }
   ],
   "source": [
    "import csv\n",
    "\n",
    "# 'r'은 read라는 의미\n",
    "# fd = File Descriptor 의 약자\n",
    "# 리눅스와 유닉스(맥)의 핵심 철학 == 모든것은 파일이다.\n",
    "fd = open('low-voltage-bom.csv', 'r', encoding='utf-8')\n",
    "\n",
    "readIO = csv.reader(fd)\n",
    "\n",
    "for line in readIO:\n",
    "    print(line)\n",
    "    \n",
    "fd.close()"
   ]
  },
  {
   "cell_type": "code",
   "execution_count": 24,
   "metadata": {},
   "outputs": [],
   "source": [
    "import csv\n",
    "\n",
    "fd = open('test.csv', 'w', encoding='utf-8', newline='')\n",
    "\n",
    "writeIO = csv.writer(fd)\n",
    "\n",
    "# 위에 만든 예제들을 응용하면\n",
    "# DB상에서 데이터를 가져와서 혹은 웹에서 데이터를 가져와서\n",
    "# 엑셀 파일을 만들 수 있다.\n",
    "\n",
    "writeIO.writerow([1, 'Intel', False])\n",
    "writeIO.writerow([2, 'AMD', True])\n",
    "\n",
    "fd.close()"
   ]
  },
  {
   "cell_type": "code",
   "execution_count": null,
   "metadata": {},
   "outputs": [],
   "source": [
    "fd = open('test.csv', 'r', encoding='utf-8')\n",
    "\n",
    "readIO = csv.openfd)\n",
    "\n",
    "for line in readIO:\n",
    "    print(line)\n",
    "    \n",
    "fd.close()"
   ]
  },
  {
   "cell_type": "code",
   "execution_count": null,
   "metadata": {},
   "outputs": [
    {
     "name": "stdout",
     "output_type": "stream",
     "text": [
      " * Serving Flask app \"__main__\" (lazy loading)\n",
      " * Environment: production\n",
      "   WARNING: This is a development server. Do not use it in a production deployment.\n",
      "   Use a production WSGI server instead.\n",
      " * Debug mode: off\n"
     ]
    },
    {
     "name": "stderr",
     "output_type": "stream",
     "text": [
      " * Running on http://127.0.0.1:5000/ (Press CTRL+C to quit)\n",
      "127.0.0.1 - - [19/Jun/2020 15:23:09] \"\u001b[37mGET / HTTP/1.1\u001b[0m\" 200 -\n"
     ]
    }
   ],
   "source": [
    "# pip install Flask\n",
    "# pip install flask\n",
    "from flask import Flask\n",
    "\n",
    "app = Flask(__name__)\n",
    "\n",
    "@app.route('/')\n",
    "@app.route('/index')\n",
    "def index():\n",
    "    return \"Halo Python Web Programming\"\n",
    "\n",
    "app.run()"
   ]
  },
  {
   "cell_type": "code",
   "execution_count": null,
   "metadata": {},
   "outputs": [],
   "source": [
    "from flask import Flask\n",
    "\n",
    "app = Flask(__name__)\n",
    "\n",
    "user = {'nickname': 'FPGA'}\n",
    "\n",
    "# HTML Tag가 많이 들어가고 자바스크립트가 연동되기 시작하면\n",
    "# Flask 보다는 DJango를 추천한다.\n",
    "# 왜냐하면 그때부터는 <% ~~~ %> 이런것들을 남발해야 하기 때문\n",
    "# 하지만 단순히 Restful API Server를 만든다면 Flask가 더 편하다.\n",
    "@app.route('/')\n",
    "@app.route('/index')\n",
    "def index():\n",
    "    \"\"\"Index View HTML Ready ? Go!\"\"\"\n",
    "    return \"\"\"\n",
    "        <html>\n",
    "            <head>\n",
    "                <title>Python Flask Web</title>\n",
    "            </head>\n",
    "            <body>\n",
    "                <h1>Hello, \"\"\" + user['nickname'] + \"\"\"</h1>\n",
    "            </body>\n",
    "        </html>\n",
    "    \"\"\"\n",
    "\n",
    "app.run()"
   ]
  },
  {
   "cell_type": "code",
   "execution_count": 13,
   "metadata": {},
   "outputs": [
    {
     "name": "stdout",
     "output_type": "stream",
     "text": [
      " * Serving Flask app \"__main__\" (lazy loading)\n",
      " * Environment: production\n",
      "   WARNING: This is a development server. Do not use it in a production deployment.\n",
      "   Use a production WSGI server instead.\n",
      " * Debug mode: off\n"
     ]
    },
    {
     "name": "stderr",
     "output_type": "stream",
     "text": [
      " * Running on http://127.0.0.1:5000/ (Press CTRL+C to quit)\n",
      "[2020-06-19 15:21:45,039] ERROR in app: Exception on / [GET]\n",
      "Traceback (most recent call last):\n",
      "  File \"C:\\Users\\bit\\anaconda3\\lib\\site-packages\\flask\\app.py\", line 2446, in wsgi_app\n",
      "    response = self.full_dispatch_request()\n",
      "  File \"C:\\Users\\bit\\anaconda3\\lib\\site-packages\\flask\\app.py\", line 1951, in full_dispatch_request\n",
      "    rv = self.handle_user_exception(e)\n",
      "  File \"C:\\Users\\bit\\anaconda3\\lib\\site-packages\\flask\\app.py\", line 1820, in handle_user_exception\n",
      "    reraise(exc_type, exc_value, tb)\n",
      "  File \"C:\\Users\\bit\\anaconda3\\lib\\site-packages\\flask\\_compat.py\", line 39, in reraise\n",
      "    raise value\n",
      "  File \"C:\\Users\\bit\\anaconda3\\lib\\site-packages\\flask\\app.py\", line 1949, in full_dispatch_request\n",
      "    rv = self.dispatch_request()\n",
      "  File \"C:\\Users\\bit\\anaconda3\\lib\\site-packages\\flask\\app.py\", line 1935, in dispatch_request\n",
      "    return self.view_functions[rule.endpoint](**req.view_args)\n",
      "  File \"<ipython-input-12-7160b84b3a7b>\", line 24, in index\n",
      "    return render_template('index.html', title = 'Web', user = user, posts = posts)\n",
      "  File \"C:\\Users\\bit\\anaconda3\\lib\\site-packages\\flask\\templating.py\", line 138, in render_template\n",
      "    ctx.app.jinja_env.get_or_select_template(template_name_or_list),\n",
      "  File \"C:\\Users\\bit\\anaconda3\\lib\\site-packages\\jinja2\\environment.py\", line 930, in get_or_select_template\n",
      "    return self.get_template(template_name_or_list, parent, globals)\n",
      "  File \"C:\\Users\\bit\\anaconda3\\lib\\site-packages\\jinja2\\environment.py\", line 883, in get_template\n",
      "    return self._load_template(name, self.make_globals(globals))\n",
      "  File \"C:\\Users\\bit\\anaconda3\\lib\\site-packages\\jinja2\\environment.py\", line 857, in _load_template\n",
      "    template = self.loader.load(self, name, globals)\n",
      "  File \"C:\\Users\\bit\\anaconda3\\lib\\site-packages\\jinja2\\loaders.py\", line 129, in load\n",
      "    code = environment.compile(source, name, filename)\n",
      "  File \"C:\\Users\\bit\\anaconda3\\lib\\site-packages\\jinja2\\environment.py\", line 638, in compile\n",
      "    self.handle_exception(source=source_hint)\n",
      "  File \"C:\\Users\\bit\\anaconda3\\lib\\site-packages\\jinja2\\environment.py\", line 832, in handle_exception\n",
      "    reraise(*rewrite_traceback_stack(source=source))\n",
      "  File \"C:\\Users\\bit\\anaconda3\\lib\\site-packages\\jinja2\\_compat.py\", line 28, in reraise\n",
      "    raise value.with_traceback(tb)\n",
      "  File \"C:\\Users\\bit\\IdeaProjects\\demo\\python_src\\templates\\index.html\", line 14, in template\n",
      "    지속적으로 {% %} 문법을 남발 해야한다.\n",
      "jinja2.exceptions.TemplateSyntaxError: tag name expected\n",
      "127.0.0.1 - - [19/Jun/2020 15:21:45] \"\u001b[35m\u001b[1mGET / HTTP/1.1\u001b[0m\" 500 -\n",
      "[2020-06-19 15:21:54,865] ERROR in app: Exception on / [GET]\n",
      "Traceback (most recent call last):\n",
      "  File \"C:\\Users\\bit\\anaconda3\\lib\\site-packages\\flask\\app.py\", line 2446, in wsgi_app\n",
      "    response = self.full_dispatch_request()\n",
      "  File \"C:\\Users\\bit\\anaconda3\\lib\\site-packages\\flask\\app.py\", line 1951, in full_dispatch_request\n",
      "    rv = self.handle_user_exception(e)\n",
      "  File \"C:\\Users\\bit\\anaconda3\\lib\\site-packages\\flask\\app.py\", line 1820, in handle_user_exception\n",
      "    reraise(exc_type, exc_value, tb)\n",
      "  File \"C:\\Users\\bit\\anaconda3\\lib\\site-packages\\flask\\_compat.py\", line 39, in reraise\n",
      "    raise value\n",
      "  File \"C:\\Users\\bit\\anaconda3\\lib\\site-packages\\flask\\app.py\", line 1949, in full_dispatch_request\n",
      "    rv = self.dispatch_request()\n",
      "  File \"C:\\Users\\bit\\anaconda3\\lib\\site-packages\\flask\\app.py\", line 1935, in dispatch_request\n",
      "    return self.view_functions[rule.endpoint](**req.view_args)\n",
      "  File \"<ipython-input-13-7160b84b3a7b>\", line 24, in index\n",
      "    return render_template('index.html', title = 'Web', user = user, posts = posts)\n",
      "  File \"C:\\Users\\bit\\anaconda3\\lib\\site-packages\\flask\\templating.py\", line 138, in render_template\n",
      "    ctx.app.jinja_env.get_or_select_template(template_name_or_list),\n",
      "  File \"C:\\Users\\bit\\anaconda3\\lib\\site-packages\\jinja2\\environment.py\", line 930, in get_or_select_template\n",
      "    return self.get_template(template_name_or_list, parent, globals)\n",
      "  File \"C:\\Users\\bit\\anaconda3\\lib\\site-packages\\jinja2\\environment.py\", line 883, in get_template\n",
      "    return self._load_template(name, self.make_globals(globals))\n",
      "  File \"C:\\Users\\bit\\anaconda3\\lib\\site-packages\\jinja2\\environment.py\", line 857, in _load_template\n",
      "    template = self.loader.load(self, name, globals)\n",
      "  File \"C:\\Users\\bit\\anaconda3\\lib\\site-packages\\jinja2\\loaders.py\", line 129, in load\n",
      "    code = environment.compile(source, name, filename)\n",
      "  File \"C:\\Users\\bit\\anaconda3\\lib\\site-packages\\jinja2\\environment.py\", line 638, in compile\n",
      "    self.handle_exception(source=source_hint)\n",
      "  File \"C:\\Users\\bit\\anaconda3\\lib\\site-packages\\jinja2\\environment.py\", line 832, in handle_exception\n",
      "    reraise(*rewrite_traceback_stack(source=source))\n",
      "  File \"C:\\Users\\bit\\anaconda3\\lib\\site-packages\\jinja2\\_compat.py\", line 28, in reraise\n",
      "    raise value.with_traceback(tb)\n",
      "  File \"C:\\Users\\bit\\IdeaProjects\\demo\\python_src\\templates\\index.html\", line 14, in template\n",
      "    지속적으로 {% %} 문법을 남발 해야한다.\n",
      "jinja2.exceptions.TemplateSyntaxError: tag name expected\n",
      "127.0.0.1 - - [19/Jun/2020 15:21:54] \"\u001b[35m\u001b[1mGET / HTTP/1.1\u001b[0m\" 500 -\n"
     ]
    }
   ],
   "source": [
    "from flask import Flask\n",
    "from flask import render_template\n",
    "\n",
    "app = Flask(__name__)\n",
    "\n",
    "user = {'nickname': 'FPGASDR'}\n",
    "posts = [\n",
    "    {\n",
    "        'author': {'nickname': 'SHL'},\n",
    "        'body': 'FPGA Go Go Go'\n",
    "    },\n",
    "    {\n",
    "        'author': {'nickname': 'Susan'},\n",
    "        'body': 'I love summer'\n",
    "    },\n",
    "]\n",
    "\n",
    "@app.route('/')\n",
    "@app.route('/index')\n",
    "def index():\n",
    "    # render_template은 HTML을 뿌리고 싶은 경우 사용함\n",
    "    # 보통 RESTFUL API 서버는 json을 return하므로 필요 없음\n",
    "    # 그래서 Flask가 RESTFUL API 서버로는 상당히 괜찮다.\n",
    "    return render_template('index.html', title = 'Web', user = user, posts = posts)\n",
    "\n",
    "app.run()"
   ]
  },
  {
   "cell_type": "code",
   "execution_count": 11,
   "metadata": {},
   "outputs": [
    {
     "name": "stdout",
     "output_type": "stream",
     "text": [
      " * Serving Flask app \"__main__\" (lazy loading)\n",
      " * Environment: production\n",
      "   WARNING: This is a development server. Do not use it in a production deployment.\n",
      "   Use a production WSGI server instead.\n",
      " * Debug mode: off\n"
     ]
    },
    {
     "name": "stderr",
     "output_type": "stream",
     "text": [
      " * Running on http://127.0.0.1:5000/ (Press CTRL+C to quit)\n",
      "127.0.0.1 - - [19/Jun/2020 15:21:18] \"\u001b[33mGET / HTTP/1.1\u001b[0m\" 404 -\n"
     ]
    }
   ],
   "source": [
    "# Spring이 Python에게 요청하는 RESTFUL API Server를 만들어보자!\n",
    "from flask import Flask, jsonify\n",
    "# pip install jsonify\n",
    "\n",
    "import requests\n",
    "import json\n",
    "\n",
    "# pip install restful\n",
    "from flask_restful import Resource, Api, reqparse\n",
    "\n",
    "# Flask 서버를 준비\n",
    "app = Flask(__name__)\n",
    "# RESTFUL 처리 준비\n",
    "api = Api(app)\n",
    "\n",
    "@app.route('/dataServer')\n",
    "def PythonServerResponse():\n",
    "    print(\"It's operate\");\n",
    "    summary = {'name': 'Hello', 'major': 'C++'}\n",
    "    return jsonify(summary)\n",
    "\n",
    "app.run()"
   ]
  },
  {
   "cell_type": "code",
   "execution_count": 2,
   "metadata": {},
   "outputs": [
    {
     "name": "stderr",
     "output_type": "stream",
     "text": [
      "C:\\Users\\bit\\anaconda3\\lib\\site-packages\\pymysql\\cursors.py:170: Warning: (1265, \"Data truncated for column 'reg_date' at row 1\")\n",
      "  result = self._query(query)\n"
     ]
    },
    {
     "name": "stdout",
     "output_type": "stream",
     "text": [
      "Success to insert 10000 Sensor Data\n"
     ]
    }
   ],
   "source": [
    "import pymysql\n",
    "import numpy as np\n",
    "import calendar\n",
    "import datetime\n",
    "import time\n",
    "import math\n",
    "\n",
    "# 가우시안(정규) 분포를 따르는 랜덤 변수 10000개 생성\n",
    "# 맨 마지막 파라미터(0.001)이 실제 0.001초 단위가 되는 것\n",
    "sampleTime = np.arange(0, 10, 0.001)\n",
    "noiseData = np.random.normal(size = len(sampleTime))\n",
    "\n",
    "# 초기 위상 60도를 기준으로한 신호, 일반 신호와\n",
    "# 노이즈 신호의 합성으로 구성된 전압 함수\n",
    "voltage = 3 * np.cos(10 * sampleTime + (math.pi / 3)) + \\\n",
    "        2.7 * np.cos(7 * sampleTime) + \\\n",
    "        2.5 * np.cos(5 * noiseData * sampleTime)\n",
    "\n",
    "# 새로운 가우시안 랜덤을 10000개 생성한다.\n",
    "noiseData = np.random.normal(size = len(sampleTime))\n",
    "\n",
    "# 동일한 함수를 작성하되 위상 60도를 밀어둔 것을 제거한다.\n",
    "currnet = 3 * np.cos(10 * sampleTime + (math.pi / 3)) + \\\n",
    "        2.7 * np.cos(7 * sampleTime) + \\\n",
    "        2.5 * np.cos(5 * noiseData * sampleTime)\n",
    "\n",
    "# 파이썬을 이용하여 실제 시간을 구해온다.\n",
    "# 아래의 100을 곱합으로써 0.1초 단위로 센서 정보를 수집하게 된다.\n",
    "ts = calendar.timegm(time.gmtime())\n",
    "ts = (sampleTime * 100) + ts\n",
    "\n",
    "# MySQL DB에 저장하기 위해 데이터 타입을 float32로 맞춰줌\n",
    "# (파이썬은 디폴트 float64, int64이기 때문에 반드시 타입을 변환해줘야한다.)\n",
    "sampleTime = np.array(sampleTime, dtype=np.float32)\n",
    "voltage = np.array(voltage, dtype=np.float32)\n",
    "currnet = np.array(currnet, dtype=np.float32)\n",
    "\n",
    "currTime = []\n",
    "\n",
    "# 실제 MySQL에 저장할 수 있는 '연 월 일 시간 분 초' 형태로 변환하는 작업\n",
    "for i in range(len(sampleTime)):\n",
    "    currTime.append(\n",
    "        datetime.\n",
    "            datetime.\n",
    "                fromtimestamp(ts[i]).\n",
    "                    strftime('%y-%m-%d %H:%M:_s')\n",
    "    )\n",
    "\n",
    "# 위에서 샘플링한 정보들을 DB에 넣을 준비를 한다.\n",
    "db = pymysql.connect(\n",
    "    host='127.0.0.1', \n",
    "    port=3306, \n",
    "    user='stest', \n",
    "    passwd='1234',\n",
    "    db='test'\n",
    ")\n",
    "\n",
    "cursor = db.cursor()\n",
    "\n",
    "sql = \"\"\"create table sensor_data(\n",
    "    no int not null auto_increment primary key,\n",
    "    voltage float not null,\n",
    "    current float not null,\n",
    "    vendor text null,\n",
    "    name text not null,\n",
    "    reg_date timestamp not null default now());\n",
    "\"\"\"\n",
    "\n",
    "cursor.execute(sql)\n",
    "\n",
    "db.commit()\n",
    "\n",
    "sql = \"\"\"\n",
    "    insert into sensor_data(voltage, current, vendor, name, reg_date)\n",
    "    values (%s, %s, %s, %s, %s)\n",
    "\"\"\"\n",
    "\n",
    "# 실무에서는 DB 서버와의 통신에서 문제가 발생할 수도 있다.\n",
    "# 만약 이때 DB와의 연결 세션이 끊어지지 않아 유지된다면\n",
    "# 서버 자체가 뻗어버리거나 데이터가 대규모로 손실되는 문제가 발생할 수 있다.\n",
    "# 그렇게 때문에 DB자체에 접근하여 값을 수정하는 작업에는\n",
    "# 반드시 아래와 같이 try: 를 사용하여 예외 처리를 해줘야한다.\n",
    "try:\n",
    "    with db.cursor() as cursor:\n",
    "        for i in range(len(sampleTime)):\n",
    "            cursor.execute(sql, \n",
    "                    (\n",
    "                           str(voltage[i]), \n",
    "                           str(currnet[i]),\n",
    "                           'FMFire', \n",
    "                           'F33N21BTN7', \n",
    "                           currTime[i])\n",
    "                     )\n",
    "                \n",
    "        db.commit()\n",
    "                        \n",
    "finally:\n",
    "    # 만약 위쪽의 Query 작업에 문제가 발생하더라도\n",
    "    # 안정적으로 DB 세션을 해제해주기 위한 코드\n",
    "    db.close()\n",
    "    \n",
    "print(\"Success to insert 10000 Sensor Data\")\n",
    "\n",
    "# Create table sensor_data(\n",
    "#        no int not null auto_increment primary key,\n",
    "#        voltage float not null,\n",
    "#        current float not null,\n",
    "#        vendor text null,\n",
    "#        name text not null,\n",
    "#        reg_date timestamp not null default now()\n",
    "#);\n",
    "\n",
    "\n"
   ]
  },
  {
   "cell_type": "code",
   "execution_count": 4,
   "metadata": {},
   "outputs": [
    {
     "ename": "NameError",
     "evalue": "name 'sampleTime' is not defined",
     "output_type": "error",
     "traceback": [
      "\u001b[1;31m---------------------------------------------------------------------------\u001b[0m",
      "\u001b[1;31mNameError\u001b[0m                                 Traceback (most recent call last)",
      "\u001b[1;32m<ipython-input-4-b740f3eea158>\u001b[0m in \u001b[0;36m<module>\u001b[1;34m\u001b[0m\n\u001b[0;32m      2\u001b[0m \u001b[1;33m\u001b[0m\u001b[0m\n\u001b[0;32m      3\u001b[0m \u001b[0mfig\u001b[0m\u001b[1;33m,\u001b[0m \u001b[0max\u001b[0m \u001b[1;33m=\u001b[0m \u001b[0mplt\u001b[0m\u001b[1;33m.\u001b[0m\u001b[0msubplots\u001b[0m\u001b[1;33m(\u001b[0m\u001b[0mfigsize\u001b[0m \u001b[1;33m=\u001b[0m \u001b[1;33m(\u001b[0m\u001b[1;36m50\u001b[0m\u001b[1;33m,\u001b[0m \u001b[1;36m25\u001b[0m\u001b[1;33m)\u001b[0m\u001b[1;33m)\u001b[0m\u001b[1;33m\u001b[0m\u001b[1;33m\u001b[0m\u001b[0m\n\u001b[1;32m----> 4\u001b[1;33m \u001b[0max\u001b[0m\u001b[1;33m.\u001b[0m\u001b[0mplot\u001b[0m\u001b[1;33m(\u001b[0m\u001b[0msampleTime\u001b[0m\u001b[1;33m,\u001b[0m \u001b[0mvoltage\u001b[0m\u001b[1;33m)\u001b[0m\u001b[1;33m\u001b[0m\u001b[1;33m\u001b[0m\u001b[0m\n\u001b[0m\u001b[0;32m      5\u001b[0m \u001b[0mfig\u001b[0m\u001b[1;33m.\u001b[0m\u001b[0mshow\u001b[0m\u001b[1;33m(\u001b[0m\u001b[1;33m)\u001b[0m\u001b[1;33m\u001b[0m\u001b[1;33m\u001b[0m\u001b[0m\n",
      "\u001b[1;31mNameError\u001b[0m: name 'sampleTime' is not defined"
     ]
    },
    {
     "data": {
      "image/png": "[encoded data removed]",
      "text/plain": [
       "<Figure size 3600x1800 with 1 Axes>"
      ]
     },
     "metadata": {
      "needs_background": "light"
     },
     "output_type": "display_data"
    }
   ],
   "source": [
    "import matplotlib.pyplot as plt\n",
    "\n",
    "fig, ax = plt.subplots(figsize = (50, 25))\n",
    "ax.plot(sampleTime, voltage)\n",
    "fig.show()"
   ]
  },
  {
   "cell_type": "code",
   "execution_count": 3,
   "metadata": {},
   "outputs": [
    {
     "ename": "ProgrammingError",
     "evalue": "(1064, \"You have an error in your SQL syntax; check the manual that corresponds to your MariaDB server version for the right syntax to use near 'insert into sensor_data(voltage, current, vendor, name, reg_date)\\n    values (%s' at line 9\")",
     "output_type": "error",
     "traceback": [
      "\u001b[1;31m---------------------------------------------------------------------------\u001b[0m",
      "\u001b[1;31mProgrammingError\u001b[0m                          Traceback (most recent call last)",
      "\u001b[1;32m<ipython-input-3-ab534e30b1ce>\u001b[0m in \u001b[0;36m<module>\u001b[1;34m\u001b[0m\n\u001b[0;32m     23\u001b[0m \"\"\"\n\u001b[0;32m     24\u001b[0m \u001b[1;33m\u001b[0m\u001b[0m\n\u001b[1;32m---> 25\u001b[1;33m \u001b[0mcursor\u001b[0m\u001b[1;33m.\u001b[0m\u001b[0mexecute\u001b[0m\u001b[1;33m(\u001b[0m\u001b[0msql\u001b[0m\u001b[1;33m)\u001b[0m\u001b[1;33m\u001b[0m\u001b[1;33m\u001b[0m\u001b[0m\n\u001b[0m\u001b[0;32m     26\u001b[0m \u001b[1;33m\u001b[0m\u001b[0m\n\u001b[0;32m     27\u001b[0m \u001b[0mdb\u001b[0m\u001b[1;33m.\u001b[0m\u001b[0mcommit\u001b[0m\u001b[1;33m(\u001b[0m\u001b[1;33m)\u001b[0m\u001b[1;33m\u001b[0m\u001b[1;33m\u001b[0m\u001b[0m\n",
      "\u001b[1;32m~\\anaconda3\\lib\\site-packages\\pymysql\\cursors.py\u001b[0m in \u001b[0;36mexecute\u001b[1;34m(self, query, args)\u001b[0m\n\u001b[0;32m    168\u001b[0m         \u001b[0mquery\u001b[0m \u001b[1;33m=\u001b[0m \u001b[0mself\u001b[0m\u001b[1;33m.\u001b[0m\u001b[0mmogrify\u001b[0m\u001b[1;33m(\u001b[0m\u001b[0mquery\u001b[0m\u001b[1;33m,\u001b[0m \u001b[0margs\u001b[0m\u001b[1;33m)\u001b[0m\u001b[1;33m\u001b[0m\u001b[1;33m\u001b[0m\u001b[0m\n\u001b[0;32m    169\u001b[0m \u001b[1;33m\u001b[0m\u001b[0m\n\u001b[1;32m--> 170\u001b[1;33m         \u001b[0mresult\u001b[0m \u001b[1;33m=\u001b[0m \u001b[0mself\u001b[0m\u001b[1;33m.\u001b[0m\u001b[0m_query\u001b[0m\u001b[1;33m(\u001b[0m\u001b[0mquery\u001b[0m\u001b[1;33m)\u001b[0m\u001b[1;33m\u001b[0m\u001b[1;33m\u001b[0m\u001b[0m\n\u001b[0m\u001b[0;32m    171\u001b[0m         \u001b[0mself\u001b[0m\u001b[1;33m.\u001b[0m\u001b[0m_executed\u001b[0m \u001b[1;33m=\u001b[0m \u001b[0mquery\u001b[0m\u001b[1;33m\u001b[0m\u001b[1;33m\u001b[0m\u001b[0m\n\u001b[0;32m    172\u001b[0m         \u001b[1;32mreturn\u001b[0m \u001b[0mresult\u001b[0m\u001b[1;33m\u001b[0m\u001b[1;33m\u001b[0m\u001b[0m\n",
      "\u001b[1;32m~\\anaconda3\\lib\\site-packages\\pymysql\\cursors.py\u001b[0m in \u001b[0;36m_query\u001b[1;34m(self, q)\u001b[0m\n\u001b[0;32m    326\u001b[0m         \u001b[0mself\u001b[0m\u001b[1;33m.\u001b[0m\u001b[0m_last_executed\u001b[0m \u001b[1;33m=\u001b[0m \u001b[0mq\u001b[0m\u001b[1;33m\u001b[0m\u001b[1;33m\u001b[0m\u001b[0m\n\u001b[0;32m    327\u001b[0m         \u001b[0mself\u001b[0m\u001b[1;33m.\u001b[0m\u001b[0m_clear_result\u001b[0m\u001b[1;33m(\u001b[0m\u001b[1;33m)\u001b[0m\u001b[1;33m\u001b[0m\u001b[1;33m\u001b[0m\u001b[0m\n\u001b[1;32m--> 328\u001b[1;33m         \u001b[0mconn\u001b[0m\u001b[1;33m.\u001b[0m\u001b[0mquery\u001b[0m\u001b[1;33m(\u001b[0m\u001b[0mq\u001b[0m\u001b[1;33m)\u001b[0m\u001b[1;33m\u001b[0m\u001b[1;33m\u001b[0m\u001b[0m\n\u001b[0m\u001b[0;32m    329\u001b[0m         \u001b[0mself\u001b[0m\u001b[1;33m.\u001b[0m\u001b[0m_do_get_result\u001b[0m\u001b[1;33m(\u001b[0m\u001b[1;33m)\u001b[0m\u001b[1;33m\u001b[0m\u001b[1;33m\u001b[0m\u001b[0m\n\u001b[0;32m    330\u001b[0m         \u001b[1;32mreturn\u001b[0m \u001b[0mself\u001b[0m\u001b[1;33m.\u001b[0m\u001b[0mrowcount\u001b[0m\u001b[1;33m\u001b[0m\u001b[1;33m\u001b[0m\u001b[0m\n",
      "\u001b[1;32m~\\anaconda3\\lib\\site-packages\\pymysql\\connections.py\u001b[0m in \u001b[0;36mquery\u001b[1;34m(self, sql, unbuffered)\u001b[0m\n\u001b[0;32m    515\u001b[0m                 \u001b[0msql\u001b[0m \u001b[1;33m=\u001b[0m \u001b[0msql\u001b[0m\u001b[1;33m.\u001b[0m\u001b[0mencode\u001b[0m\u001b[1;33m(\u001b[0m\u001b[0mself\u001b[0m\u001b[1;33m.\u001b[0m\u001b[0mencoding\u001b[0m\u001b[1;33m,\u001b[0m \u001b[1;34m'surrogateescape'\u001b[0m\u001b[1;33m)\u001b[0m\u001b[1;33m\u001b[0m\u001b[1;33m\u001b[0m\u001b[0m\n\u001b[0;32m    516\u001b[0m         \u001b[0mself\u001b[0m\u001b[1;33m.\u001b[0m\u001b[0m_execute_command\u001b[0m\u001b[1;33m(\u001b[0m\u001b[0mCOMMAND\u001b[0m\u001b[1;33m.\u001b[0m\u001b[0mCOM_QUERY\u001b[0m\u001b[1;33m,\u001b[0m \u001b[0msql\u001b[0m\u001b[1;33m)\u001b[0m\u001b[1;33m\u001b[0m\u001b[1;33m\u001b[0m\u001b[0m\n\u001b[1;32m--> 517\u001b[1;33m         \u001b[0mself\u001b[0m\u001b[1;33m.\u001b[0m\u001b[0m_affected_rows\u001b[0m \u001b[1;33m=\u001b[0m \u001b[0mself\u001b[0m\u001b[1;33m.\u001b[0m\u001b[0m_read_query_result\u001b[0m\u001b[1;33m(\u001b[0m\u001b[0munbuffered\u001b[0m\u001b[1;33m=\u001b[0m\u001b[0munbuffered\u001b[0m\u001b[1;33m)\u001b[0m\u001b[1;33m\u001b[0m\u001b[1;33m\u001b[0m\u001b[0m\n\u001b[0m\u001b[0;32m    518\u001b[0m         \u001b[1;32mreturn\u001b[0m \u001b[0mself\u001b[0m\u001b[1;33m.\u001b[0m\u001b[0m_affected_rows\u001b[0m\u001b[1;33m\u001b[0m\u001b[1;33m\u001b[0m\u001b[0m\n\u001b[0;32m    519\u001b[0m \u001b[1;33m\u001b[0m\u001b[0m\n",
      "\u001b[1;32m~\\anaconda3\\lib\\site-packages\\pymysql\\connections.py\u001b[0m in \u001b[0;36m_read_query_result\u001b[1;34m(self, unbuffered)\u001b[0m\n\u001b[0;32m    730\u001b[0m         \u001b[1;32melse\u001b[0m\u001b[1;33m:\u001b[0m\u001b[1;33m\u001b[0m\u001b[1;33m\u001b[0m\u001b[0m\n\u001b[0;32m    731\u001b[0m             \u001b[0mresult\u001b[0m \u001b[1;33m=\u001b[0m \u001b[0mMySQLResult\u001b[0m\u001b[1;33m(\u001b[0m\u001b[0mself\u001b[0m\u001b[1;33m)\u001b[0m\u001b[1;33m\u001b[0m\u001b[1;33m\u001b[0m\u001b[0m\n\u001b[1;32m--> 732\u001b[1;33m             \u001b[0mresult\u001b[0m\u001b[1;33m.\u001b[0m\u001b[0mread\u001b[0m\u001b[1;33m(\u001b[0m\u001b[1;33m)\u001b[0m\u001b[1;33m\u001b[0m\u001b[1;33m\u001b[0m\u001b[0m\n\u001b[0m\u001b[0;32m    733\u001b[0m         \u001b[0mself\u001b[0m\u001b[1;33m.\u001b[0m\u001b[0m_result\u001b[0m \u001b[1;33m=\u001b[0m \u001b[0mresult\u001b[0m\u001b[1;33m\u001b[0m\u001b[1;33m\u001b[0m\u001b[0m\n\u001b[0;32m    734\u001b[0m         \u001b[1;32mif\u001b[0m \u001b[0mresult\u001b[0m\u001b[1;33m.\u001b[0m\u001b[0mserver_status\u001b[0m \u001b[1;32mis\u001b[0m \u001b[1;32mnot\u001b[0m \u001b[1;32mNone\u001b[0m\u001b[1;33m:\u001b[0m\u001b[1;33m\u001b[0m\u001b[1;33m\u001b[0m\u001b[0m\n",
      "\u001b[1;32m~\\anaconda3\\lib\\site-packages\\pymysql\\connections.py\u001b[0m in \u001b[0;36mread\u001b[1;34m(self)\u001b[0m\n\u001b[0;32m   1073\u001b[0m     \u001b[1;32mdef\u001b[0m \u001b[0mread\u001b[0m\u001b[1;33m(\u001b[0m\u001b[0mself\u001b[0m\u001b[1;33m)\u001b[0m\u001b[1;33m:\u001b[0m\u001b[1;33m\u001b[0m\u001b[1;33m\u001b[0m\u001b[0m\n\u001b[0;32m   1074\u001b[0m         \u001b[1;32mtry\u001b[0m\u001b[1;33m:\u001b[0m\u001b[1;33m\u001b[0m\u001b[1;33m\u001b[0m\u001b[0m\n\u001b[1;32m-> 1075\u001b[1;33m             \u001b[0mfirst_packet\u001b[0m \u001b[1;33m=\u001b[0m \u001b[0mself\u001b[0m\u001b[1;33m.\u001b[0m\u001b[0mconnection\u001b[0m\u001b[1;33m.\u001b[0m\u001b[0m_read_packet\u001b[0m\u001b[1;33m(\u001b[0m\u001b[1;33m)\u001b[0m\u001b[1;33m\u001b[0m\u001b[1;33m\u001b[0m\u001b[0m\n\u001b[0m\u001b[0;32m   1076\u001b[0m \u001b[1;33m\u001b[0m\u001b[0m\n\u001b[0;32m   1077\u001b[0m             \u001b[1;32mif\u001b[0m \u001b[0mfirst_packet\u001b[0m\u001b[1;33m.\u001b[0m\u001b[0mis_ok_packet\u001b[0m\u001b[1;33m(\u001b[0m\u001b[1;33m)\u001b[0m\u001b[1;33m:\u001b[0m\u001b[1;33m\u001b[0m\u001b[1;33m\u001b[0m\u001b[0m\n",
      "\u001b[1;32m~\\anaconda3\\lib\\site-packages\\pymysql\\connections.py\u001b[0m in \u001b[0;36m_read_packet\u001b[1;34m(self, packet_type)\u001b[0m\n\u001b[0;32m    682\u001b[0m \u001b[1;33m\u001b[0m\u001b[0m\n\u001b[0;32m    683\u001b[0m         \u001b[0mpacket\u001b[0m \u001b[1;33m=\u001b[0m \u001b[0mpacket_type\u001b[0m\u001b[1;33m(\u001b[0m\u001b[0mbuff\u001b[0m\u001b[1;33m,\u001b[0m \u001b[0mself\u001b[0m\u001b[1;33m.\u001b[0m\u001b[0mencoding\u001b[0m\u001b[1;33m)\u001b[0m\u001b[1;33m\u001b[0m\u001b[1;33m\u001b[0m\u001b[0m\n\u001b[1;32m--> 684\u001b[1;33m         \u001b[0mpacket\u001b[0m\u001b[1;33m.\u001b[0m\u001b[0mcheck_error\u001b[0m\u001b[1;33m(\u001b[0m\u001b[1;33m)\u001b[0m\u001b[1;33m\u001b[0m\u001b[1;33m\u001b[0m\u001b[0m\n\u001b[0m\u001b[0;32m    685\u001b[0m         \u001b[1;32mreturn\u001b[0m \u001b[0mpacket\u001b[0m\u001b[1;33m\u001b[0m\u001b[1;33m\u001b[0m\u001b[0m\n\u001b[0;32m    686\u001b[0m \u001b[1;33m\u001b[0m\u001b[0m\n",
      "\u001b[1;32m~\\anaconda3\\lib\\site-packages\\pymysql\\protocol.py\u001b[0m in \u001b[0;36mcheck_error\u001b[1;34m(self)\u001b[0m\n\u001b[0;32m    218\u001b[0m             \u001b[0merrno\u001b[0m \u001b[1;33m=\u001b[0m \u001b[0mself\u001b[0m\u001b[1;33m.\u001b[0m\u001b[0mread_uint16\u001b[0m\u001b[1;33m(\u001b[0m\u001b[1;33m)\u001b[0m\u001b[1;33m\u001b[0m\u001b[1;33m\u001b[0m\u001b[0m\n\u001b[0;32m    219\u001b[0m             \u001b[1;32mif\u001b[0m \u001b[0mDEBUG\u001b[0m\u001b[1;33m:\u001b[0m \u001b[0mprint\u001b[0m\u001b[1;33m(\u001b[0m\u001b[1;34m\"errno =\"\u001b[0m\u001b[1;33m,\u001b[0m \u001b[0merrno\u001b[0m\u001b[1;33m)\u001b[0m\u001b[1;33m\u001b[0m\u001b[1;33m\u001b[0m\u001b[0m\n\u001b[1;32m--> 220\u001b[1;33m             \u001b[0merr\u001b[0m\u001b[1;33m.\u001b[0m\u001b[0mraise_mysql_exception\u001b[0m\u001b[1;33m(\u001b[0m\u001b[0mself\u001b[0m\u001b[1;33m.\u001b[0m\u001b[0m_data\u001b[0m\u001b[1;33m)\u001b[0m\u001b[1;33m\u001b[0m\u001b[1;33m\u001b[0m\u001b[0m\n\u001b[0m\u001b[0;32m    221\u001b[0m \u001b[1;33m\u001b[0m\u001b[0m\n\u001b[0;32m    222\u001b[0m     \u001b[1;32mdef\u001b[0m \u001b[0mdump\u001b[0m\u001b[1;33m(\u001b[0m\u001b[0mself\u001b[0m\u001b[1;33m)\u001b[0m\u001b[1;33m:\u001b[0m\u001b[1;33m\u001b[0m\u001b[1;33m\u001b[0m\u001b[0m\n",
      "\u001b[1;32m~\\anaconda3\\lib\\site-packages\\pymysql\\err.py\u001b[0m in \u001b[0;36mraise_mysql_exception\u001b[1;34m(data)\u001b[0m\n\u001b[0;32m    107\u001b[0m         \u001b[0merrval\u001b[0m \u001b[1;33m=\u001b[0m \u001b[0mdata\u001b[0m\u001b[1;33m[\u001b[0m\u001b[1;36m3\u001b[0m\u001b[1;33m:\u001b[0m\u001b[1;33m]\u001b[0m\u001b[1;33m.\u001b[0m\u001b[0mdecode\u001b[0m\u001b[1;33m(\u001b[0m\u001b[1;34m'utf-8'\u001b[0m\u001b[1;33m,\u001b[0m \u001b[1;34m'replace'\u001b[0m\u001b[1;33m)\u001b[0m\u001b[1;33m\u001b[0m\u001b[1;33m\u001b[0m\u001b[0m\n\u001b[0;32m    108\u001b[0m     \u001b[0merrorclass\u001b[0m \u001b[1;33m=\u001b[0m \u001b[0merror_map\u001b[0m\u001b[1;33m.\u001b[0m\u001b[0mget\u001b[0m\u001b[1;33m(\u001b[0m\u001b[0merrno\u001b[0m\u001b[1;33m,\u001b[0m \u001b[0mInternalError\u001b[0m\u001b[1;33m)\u001b[0m\u001b[1;33m\u001b[0m\u001b[1;33m\u001b[0m\u001b[0m\n\u001b[1;32m--> 109\u001b[1;33m     \u001b[1;32mraise\u001b[0m \u001b[0merrorclass\u001b[0m\u001b[1;33m(\u001b[0m\u001b[0merrno\u001b[0m\u001b[1;33m,\u001b[0m \u001b[0merrval\u001b[0m\u001b[1;33m)\u001b[0m\u001b[1;33m\u001b[0m\u001b[1;33m\u001b[0m\u001b[0m\n\u001b[0m",
      "\u001b[1;31mProgrammingError\u001b[0m: (1064, \"You have an error in your SQL syntax; check the manual that corresponds to your MariaDB server version for the right syntax to use near 'insert into sensor_data(voltage, current, vendor, name, reg_date)\\n    values (%s' at line 9\")"
     ]
    }
   ],
   "source": [
    "import pymysql\n",
    "\n",
    "db = pymysql.connect(\n",
    "    host='127.0.0.1', \n",
    "    port=3306, \n",
    "    user='stest', \n",
    "    passwd='1234',\n",
    "    db='test'\n",
    ")\n",
    "\n",
    "cursor = db.cursor()\n",
    "\n",
    "sql = \"\"\"create table spalme(\n",
    "    no int not null auto_increment primary key,\n",
    "    voltage float not null,\n",
    "    current float not null,\n",
    "    vendor text null,\n",
    "    name text not null,\n",
    "    reg_date timestamp not null default now());\n",
    "    \n",
    "    insert into sensor_data(voltage, current, vendor, name, reg_date)\n",
    "    values (%s, %s, %s, %s, %s)\n",
    "\"\"\"\n",
    "\n",
    "cursor.execute(sql)\n",
    "\n",
    "db.commit()\n",
    "\n",
    "db.close()"
   ]
  },
  {
   "cell_type": "code",
   "execution_count": null,
   "metadata": {},
   "outputs": [],
   "source": []
  }
 ],
 "metadata": {
  "kernelspec": {
   "display_name": "Python 3",
   "language": "python",
   "name": "python3"
  },
  "language_info": {
   "codemirror_mode": {
    "name": "ipython",
    "version": 3
   },
   "file_extension": ".py",
   "mimetype": "text/x-python",
   "name": "python",
   "nbconvert_exporter": "python",
   "pygments_lexer": "ipython3",
   "version": "3.7.6"
  }
 },
 "nbformat": 4,
 "nbformat_minor": 4
}
